{
  "nbformat": 4,
  "nbformat_minor": 0,
  "metadata": {
    "colab": {
      "provenance": []
    },
    "kernelspec": {
      "name": "python3",
      "display_name": "Python 3"
    },
    "language_info": {
      "name": "python"
    }
  },
  "cells": [
    {
      "cell_type": "markdown",
      "source": [
        "**THEORY QUESTION**"
      ],
      "metadata": {
        "id": "YvVD8DuTh6Hj"
      }
    },
    {
      "cell_type": "markdown",
      "source": [
        "Q1. What is Object-Oriented Programming (OOP)?\n",
        "-  OOP is a programming paradigm based on objects that contain data (attributes) and methods (functions). It promotes reusability and modularity. Example: Python, Java, and C++ use OOP concepts like classes and objects."
      ],
      "metadata": {
        "id": "a4zD1bxjh6Aj"
      }
    },
    {
      "cell_type": "markdown",
      "source": [
        "Q2.What is a class in OOP?\n",
        "-   A class is a blueprint for creating objects, defining attributes and methods.\n",
        "Example: class Car: def init(self, brand):\n",
        " self.brand = brand"
      ],
      "metadata": {
        "id": "EWoAFhV2h59I"
      }
    },
    {
      "cell_type": "markdown",
      "source": [
        "Q3. What is an object in OOP?\n",
        "-  An object is an instance of a class with its own attributes and behavior. Example: my_car = Car(\"Toyota\")"
      ],
      "metadata": {
        "id": "yqvzU5ijh53X"
      }
    },
    {
      "cell_type": "markdown",
      "source": [
        "Q4. What is the difference between abstraction and encapsulation?\n",
        "-  Abstraction hides implementation details and shows only essential features.\n",
        "\n",
        "Encapsulation restricts direct access to object data using access modifiers. Example: class Bank: def init(self, balance): self.__balance = balance # Encapsulation"
      ],
      "metadata": {
        "id": "glY2yd30h50E"
      }
    },
    {
      "cell_type": "markdown",
      "source": [
        "5. What are dunder methods in Python?\n",
        "- Dunder (double underscore) methods are special methods in Python, like __init__() and __str__(), that define object behavior.\n",
        "Example:\n",
        "\n",
        "def __str__(self):\n",
        "    return f\"Car brand: {self.brand}\""
      ],
      "metadata": {
        "id": "SgPU7ogcVO0V"
      }
    },
    {
      "cell_type": "markdown",
      "source": [
        "6. Explain the concept of inheritance in OOP.\n",
        "-  Inheritance allows a class to inherit attributes and methods from another class.\n",
        "Example:\n",
        "\n",
        "class ElectricCar(Car):\n",
        "    pass"
      ],
      "metadata": {
        "id": "w8oxGgwWXBXy"
      }
    },
    {
      "cell_type": "markdown",
      "source": [
        "7. What is polymorphism in OOP?\n",
        "- Polymorphism allows objects of different classes to be treated as objects of a common superclass.\n",
        "Example:\n",
        "\n",
        "class Dog:\n",
        "    def speak(self):\n",
        "        return \"Bark\"\n",
        "class Cat:\n",
        "    def speak(self):\n",
        "        return \"Meow\""
      ],
      "metadata": {
        "id": "HjPp2HrwXDDR"
      }
    },
    {
      "cell_type": "markdown",
      "source": [
        "8. How is encapsulation achieved in Python?\n",
        "- Encapsulation is achieved using private (__variable), protected (_variable), and public attributes.\n",
        "Example:\n",
        "\n",
        "class Person:\n",
        "    def __init__(self, name):\n",
        "        self.__name = name"
      ],
      "metadata": {
        "id": "nu4OvGBTXDgT"
      }
    },
    {
      "cell_type": "markdown",
      "source": [
        "9. What is a constructor in Python?\n",
        "- A constructor (__init__) initializes an object’s attributes when it is created.\n",
        "Example:\n",
        "\n",
        "class Student:\n",
        "    def __init__(self, name):\n",
        "        self.name = name"
      ],
      "metadata": {
        "id": "oJiCCQP0XD5B"
      }
    },
    {
      "cell_type": "markdown",
      "source": [
        "10. What are class and static methods in Python?\n",
        "-\n",
        "@classmethod modifies class-level data.\n",
        "\n",
        "@staticmethod doesn’t access class or instance attributes.\n",
        "Example:\n",
        "\n",
        "\n",
        "class Math:\n",
        "    @staticmethod\n",
        "    def add(x, y):\n",
        "        return x + y"
      ],
      "metadata": {
        "id": "UgXEJcAXXENq"
      }
    },
    {
      "cell_type": "markdown",
      "source": [
        "11. What is method overloading in Python?\n",
        "-  Python doesn’t support true method overloading but can achieve it using default arguments.\n",
        "Example:\n",
        "\n",
        "def greet(name=None):\n",
        "    return f\"Hello {name}\" if name else \"Hello!\""
      ],
      "metadata": {
        "id": "-3bOoHYMXEda"
      }
    },
    {
      "cell_type": "markdown",
      "source": [
        "12. What is method overriding in OOP?\n",
        "-  A subclass provides a specific implementation of a method from its parent class.\n",
        "Example:\n",
        "\n",
        "class Parent:\n",
        "    def show(self):\n",
        "        print(\"Parent\")\n",
        "class Child(Parent):\n",
        "    def show(self):\n",
        "        print(\"Child\")"
      ],
      "metadata": {
        "id": "dMrKHrwtXF5U"
      }
    },
    {
      "cell_type": "markdown",
      "source": [
        "13. What is a property decorator in Python?\n",
        "- @property is used to define getter and setter methods.\n",
        "Example:\n",
        "\n",
        "class Employee:\n",
        "    @property\n",
        "    def salary(self):\n",
        "        return self._salary"
      ],
      "metadata": {
        "id": "xEESw2wDXG3q"
      }
    },
    {
      "cell_type": "markdown",
      "source": [
        "14. Why is polymorphism important in OOP?\n",
        "-  It allows different classes to be used interchangeably, improving code flexibility and reusability."
      ],
      "metadata": {
        "id": "Qu8B0iCIXHZL"
      }
    },
    {
      "cell_type": "markdown",
      "source": [
        "15. What is an abstract class in Python?\n",
        "-  An abstract class contains abstract methods and cannot be instantiated directly.\n",
        "Example:\n",
        "\n",
        "from abc import ABC, abstractmethod\n",
        "class Shape(ABC):\n",
        "    @abstractmethod\n",
        "    def area(self):\n",
        "        pass"
      ],
      "metadata": {
        "id": "yWWfRNDIXH5U"
      }
    },
    {
      "cell_type": "markdown",
      "source": [
        "16. What are the advantages of OOP?\n",
        "-\n",
        "Code reusability\n",
        "\n",
        "Scalability\n",
        "\n",
        "Data hiding\n",
        "\n",
        "Modularity"
      ],
      "metadata": {
        "id": "K65p8SUYXIZC"
      }
    },
    {
      "cell_type": "markdown",
      "source": [
        "17. What is the difference between a class variable and an instance variable?\n",
        "-\n",
        "Class variable: Shared among all objects.\n",
        "\n",
        "Instance variable: Unique to each object.\n",
        "Example:\n",
        "\n",
        "\n",
        "class Example:\n",
        "    class_var = 10  # Class variable\n",
        "    def __init__(self, value):\n",
        "        self.instance_var = value  # Instance variable"
      ],
      "metadata": {
        "id": "6_091KiyXv3i"
      }
    },
    {
      "cell_type": "markdown",
      "source": [
        "18. What is multiple inheritance in Python?\n",
        "- A class can inherit from multiple parent classes.\n",
        "Example:\n",
        "\n",
        "class A: pass\n",
        "class B: pass\n",
        "class C(A, B): pass"
      ],
      "metadata": {
        "id": "CVdATYNuXwlC"
      }
    },
    {
      "cell_type": "markdown",
      "source": [
        "19. Explain the purpose of __str__ and __repr__ methods in Python.\n",
        "-\n",
        "__str__: Returns a human-readable string.\n",
        "\n",
        "__repr__: Returns a formal string representation of an object."
      ],
      "metadata": {
        "id": "vogRikiSXxHW"
      }
    },
    {
      "cell_type": "markdown",
      "source": [
        "20. What is the significance of the super() function in Python?\n",
        "- It allows calling methods from the parent class.\n",
        "Example:\n",
        "\n",
        "class Parent:\n",
        "    def greet(self):\n",
        "        print(\"Hello\")\n",
        "class Child(Parent):\n",
        "    def greet(self):\n",
        "        super().greet()"
      ],
      "metadata": {
        "id": "tTNsULlEXxoX"
      }
    },
    {
      "cell_type": "markdown",
      "source": [
        "21. What is the significance of the __del__ method in Python?\n",
        "- It is a destructor that cleans up an object before deletion."
      ],
      "metadata": {
        "id": "3L1Yeq2EXyB-"
      }
    },
    {
      "cell_type": "markdown",
      "source": [
        "22. What is the difference between @staticmethod and @classmethod in Python?\n",
        "-\n",
        "\n",
        "@staticmethod: No access to class or instance attributes.\n",
        "\n",
        "@classmethod: Works with class attributes using cls."
      ],
      "metadata": {
        "id": "nsQjJrtKXya3"
      }
    },
    {
      "cell_type": "markdown",
      "source": [
        "23. How does polymorphism work in Python with inheritance?\n",
        "- A subclass can override methods of a parent class, allowing different behaviors using the same method name."
      ],
      "metadata": {
        "id": "VEQjh6tuXy5O"
      }
    },
    {
      "cell_type": "markdown",
      "source": [
        "24. What is method chaining in Python OOP?\n",
        "-  Calling multiple methods on the same object in a single line.\n",
        "Example:\n",
        "\n",
        "class Example:\n",
        "    def action(self):\n",
        "        print(\"Action performed\")\n",
        "        return self\n",
        "obj = Example().action().action()"
      ],
      "metadata": {
        "id": "gADecRBfXzVp"
      }
    },
    {
      "cell_type": "markdown",
      "source": [
        "25. What is the purpose of the __call__ method in Python?\n",
        "- It allows an object to be called like a function.\n",
        "Example:\n",
        "\n",
        "class Example:\n",
        "    def __call__(self):\n",
        "        print(\"Object called\")\n",
        "obj = Example()\n",
        "obj()  # Calls __call__ method"
      ],
      "metadata": {
        "id": "uKdNjdQnXzyH"
      }
    },
    {
      "cell_type": "markdown",
      "source": [
        "PRACTICAL QUESTION"
      ],
      "metadata": {
        "id": "yu1vXKf4h0GX"
      }
    },
    {
      "cell_type": "code",
      "execution_count": null,
      "metadata": {
        "colab": {
          "base_uri": "https://localhost:8080/"
        },
        "id": "byvuA_kIRDNB",
        "outputId": "a91725b2-494c-4432-c8ff-2024ff7df8eb"
      },
      "outputs": [
        {
          "output_type": "stream",
          "name": "stdout",
          "text": [
            "This animal makes a sound.\n",
            "Bark!\n"
          ]
        }
      ],
      "source": [
        "## Q.1 Create a parent class Animal with a method speak() that prints a generic message. Create a child class Dog\n",
        "## that overrides the speak() method to print \"Bark!\".\n",
        "class Animal:\n",
        "    def speak(self):\n",
        "        print(\"This animal makes a sound.\")\n",
        "\n",
        "class Dog(Animal):\n",
        "    def speak(self):\n",
        "        print(\"Bark!\")\n",
        "\n",
        "# Example usage\n",
        "animal = Animal()\n",
        "animal.speak()\n",
        "\n",
        "dog = Dog()\n",
        "dog.speak()"
      ]
    },
    {
      "cell_type": "code",
      "source": [
        "##Q2. Write a program to create an abstract class Shape with a method area(). Derive classes Circle and Rectangle\n",
        "##    from it and implement the area() method in both.\n",
        "from abc import ABC, abstractmethod\n",
        "\n",
        "class Shape(ABC):\n",
        "    @abstractmethod\n",
        "    def area(self):\n",
        "        pass\n",
        "\n",
        "class Circle(Shape):\n",
        "    def __init__(self, radius):\n",
        "        self.radius = radius\n",
        "\n",
        "    def area(self):\n",
        "        return 3.1416 * self.radius * self.radius\n",
        "\n",
        "class Rectangle(Shape):\n",
        "    def __init__(self, width, height):\n",
        "        self.width = width\n",
        "        self.height = height\n",
        "\n",
        "    def area(self):\n",
        "        return self.width * self.height\n",
        "\n",
        "# Example usage\n",
        "circle = Circle(5)\n",
        "print(\"Circle area:\", circle.area())\n",
        "rectangle = Rectangle(4, 6)\n",
        "print(\"Rectangle area:\", rectangle.area())\n"
      ],
      "metadata": {
        "colab": {
          "base_uri": "https://localhost:8080/"
        },
        "id": "N5KLVzihS_YN",
        "outputId": "80fb0500-9932-4555-8f30-19d5d8fa4cb5"
      },
      "execution_count": null,
      "outputs": [
        {
          "output_type": "stream",
          "name": "stdout",
          "text": [
            "Circle area: 78.54\n",
            "Rectangle area: 24\n"
          ]
        }
      ]
    },
    {
      "cell_type": "code",
      "source": [
        "##Q3. Implement a multi-level inheritance scenario where a class Vehicle has an attribute type. Derive a class Car\n",
        "##    and further derive a class ElectricCar that adds a battery attribute.\n",
        "\n",
        "class Vehicle:\n",
        "    def __init__(self, type):\n",
        "        self.type = type\n",
        "\n",
        "    def get_type(self):\n",
        "        return self.type\n",
        "\n",
        "class Car(Vehicle):\n",
        "    def __init__(self, type, brand):\n",
        "        super().__init__(type)\n",
        "        self.brand = brand\n",
        "\n",
        "    def get_brand(self):\n",
        "        return self.brand\n",
        "\n",
        "class ElectricCar(Car):\n",
        "    def __init__(self, type, brand, battery):\n",
        "        super().__init__(type, brand)\n",
        "        self.battery = battery\n",
        "\n",
        "    def get_battery(self):\n",
        "        return self.battery\n",
        "\n",
        "# Example usage\n",
        "electric_car = ElectricCar(\"Sedan\", \"Tesla\", \"100 kWh\")\n",
        "print(\"Vehicle Type:\", electric_car.get_type())\n",
        "print(\"Car Brand:\", electric_car.get_brand())\n",
        "print(\"Battery Capacity:\", electric_car.get_battery())\n"
      ],
      "metadata": {
        "colab": {
          "base_uri": "https://localhost:8080/"
        },
        "id": "oKxudr8HS_0h",
        "outputId": "e4a5d9f1-dcca-42ba-badd-85cd3915a386"
      },
      "execution_count": null,
      "outputs": [
        {
          "output_type": "stream",
          "name": "stdout",
          "text": [
            "Vehicle Type: Sedan\n",
            "Car Brand: Tesla\n",
            "Battery Capacity: 100 kWh\n"
          ]
        }
      ]
    },
    {
      "cell_type": "code",
      "source": [
        "##Q4. Implement a multi-level inheritance scenario where a class Vehicle has an attribute type. Derive a class Car\n",
        "##    and further derive a class ElectricCar that adds a battery attribute.\n",
        "class Vehicle:\n",
        "    def __init__(self, vehicle_type):\n",
        "        self.vehicle_type = vehicle_type\n",
        "\n",
        "    def get_type(self):\n",
        "        return self.vehicle_type\n",
        "\n",
        "class Car(Vehicle):\n",
        "    def __init__(self, vehicle_type, brand, model):\n",
        "        super().__init__(vehicle_type)\n",
        "        self.brand = brand\n",
        "        self.model = model\n",
        "\n",
        "    def get_brand(self):\n",
        "        return self.brand\n",
        "\n",
        "    def get_model(self):\n",
        "        return self.model\n",
        "\n",
        "class ElectricCar(Car):\n",
        "    def __init__(self, vehicle_type, brand, model, battery_capacity):\n",
        "        super().__init__(vehicle_type, brand, model)\n",
        "        self.battery_capacity = battery_capacity\n",
        "\n",
        "    def get_battery_capacity(self):\n",
        "        return self.battery_capacity\n",
        "\n",
        "# Example usage\n",
        "electric_car = ElectricCar(\"Sedan\", \"Tesla\", \"Model S\", \"100 kWh\")\n",
        "print(\"Vehicle Type:\", electric_car.get_type())\n",
        "print(\"Car Brand:\", electric_car.get_brand())\n",
        "print(\"Car Model:\", electric_car.get_model())\n",
        "print(\"Battery Capacity:\", electric_car.get_battery_capacity())\n"
      ],
      "metadata": {
        "id": "-tY8wLS-S_7N"
      },
      "execution_count": null,
      "outputs": []
    },
    {
      "cell_type": "code",
      "source": [
        "##5. Write a program to demonstrate encapsulation by creating a class BankAccount with private attributes\n",
        "##   balance and methods to deposit, withdraw, and check balance.\n",
        "class BankAccount:\n",
        "    def __init__(self, balance=0):\n",
        "        self.__balance = balance\n",
        "\n",
        "    def deposit(self, amount):\n",
        "        if amount > 0:\n",
        "            self.__balance += amount\n",
        "            print(f\"Deposited: ${amount}\")\n",
        "        else:\n",
        "            print(\"Deposit amount must be positive.\")\n",
        "\n",
        "    def withdraw(self, amount):\n",
        "        if 0 < amount <= self.__balance:\n",
        "            self.__balance -= amount\n",
        "            print(f\"Withdrawn: ${amount}\")\n",
        "        else:\n",
        "            print(\"Insufficient balance or invalid amount.\")\n",
        "\n",
        "    def get_balance(self):\n",
        "        return self.__balance\n",
        "\n",
        "# Example usage\n",
        "account = BankAccount(1000)\n",
        "account.deposit(500)\n",
        "account.withdraw(200)\n",
        "print(\"Current Balance:\", account.get_balance())\n"
      ],
      "metadata": {
        "id": "bYkOeE-GS_-D"
      },
      "execution_count": null,
      "outputs": []
    },
    {
      "cell_type": "code",
      "source": [
        "##Q6. Demonstrate runtime polymorphism using a method play() in a base class Instrument. Derive classes Guitar\n",
        "##    and Piano that implement their own version of play().\n",
        "class Instrument:\n",
        "    def play(self):\n",
        "        print(\"Playing an instrument.\")\n",
        "\n",
        "class Guitar(Instrument):\n",
        "    def play(self):\n",
        "        print(\"Strumming the guitar.\")\n",
        "\n",
        "class Piano(Instrument):\n",
        "    def play(self):\n",
        "        print(\"Playing the piano.\")\n",
        "\n",
        "# Example usage\n",
        "instruments = [Guitar(), Piano()]\n",
        "for instrument in instruments:\n",
        "    instrument.play()\n",
        "\n"
      ],
      "metadata": {
        "colab": {
          "base_uri": "https://localhost:8080/"
        },
        "id": "mfeD0S3sTAAZ",
        "outputId": "57b0cdaa-5ecc-4682-a7b4-dd9188b4e2ee"
      },
      "execution_count": null,
      "outputs": [
        {
          "output_type": "stream",
          "name": "stdout",
          "text": [
            "Strumming the guitar.\n",
            "Playing the piano.\n"
          ]
        }
      ]
    },
    {
      "cell_type": "code",
      "source": [
        "##7. Create a class MathOperations with a class method add_numbers() to add two numbers and a static\n",
        "##   method subtract_numbers() to subtract two numbers.\n",
        "class MathOperations:\n",
        "    @classmethod\n",
        "    def add_numbers(cls, a, b):\n",
        "        return a + b\n",
        "\n",
        "    @staticmethod\n",
        "    def subtract_numbers(a, b):\n",
        "        return a - b\n",
        "\n",
        "# Example usage\n",
        "print(\"Addition:\", MathOperations.add_numbers(10, 5))\n",
        "print(\"Subtraction:\", MathOperations.subtract_numbers(10, 5))\n"
      ],
      "metadata": {
        "id": "pcWwiALQTACb"
      },
      "execution_count": null,
      "outputs": []
    },
    {
      "cell_type": "code",
      "source": [
        "##8. Implement a class Person with a class method to count the total number of persons created.\n",
        "class Person:\n",
        "    count = 0\n",
        "\n",
        "    def __init__(self, name):\n",
        "        self.name = name\n",
        "        Person.count += 1\n",
        "\n",
        "    @classmethod\n",
        "    def get_count(cls):\n",
        "        return cls.count\n",
        "\n",
        "# Example usage\n",
        "p1 = Person(\"Alice\")\n",
        "p2 = Person(\"Bob\")\n",
        "print(\"Total Persons:\", Person.get_count())\n"
      ],
      "metadata": {
        "id": "3M8ndZZ8TAE0"
      },
      "execution_count": null,
      "outputs": []
    },
    {
      "cell_type": "code",
      "source": [
        "##Q9. Write a class Fraction with attributes numerator and denominator. Override the str method to display the\n",
        "##    fraction as \"numerator/denominator\".\n",
        "class Fraction:\n",
        "    def __init__(self, numerator, denominator):\n",
        "        self.numerator = numerator\n",
        "        self.denominator = denominator\n",
        "\n",
        "    def __str__(self):\n",
        "        return f\"{self.numerator}/{self.denominator}\"\n",
        "\n",
        "# Example usage\n",
        "frac = Fraction(3, 4)\n",
        "print(\"Fraction:\", frac)\n"
      ],
      "metadata": {
        "id": "8TNINCPvTAHB"
      },
      "execution_count": null,
      "outputs": []
    },
    {
      "cell_type": "code",
      "source": [
        "##QQ10. Demonstrate operator overloading by creating a class Vector and overriding the add method to add two\n",
        "##      vectors.\n",
        "class Vector:\n",
        "    def __init__(self, x, y):\n",
        "        self.x = x\n",
        "        self.y = y\n",
        "\n",
        "    def __add__(self, other):\n",
        "        return Vector(self.x + other.x, self.y + other.y)\n",
        "\n",
        "    def __str__(self):\n",
        "        return f\"Vector({self.x}, {self.y})\"\n",
        "\n",
        "# Example usage\n",
        "v1 = Vector(2, 3)\n",
        "v2 = Vector(4, 5)\n",
        "v3 = v1 + v2\n",
        "print(\"Sum of Vectors:\", v3)\n"
      ],
      "metadata": {
        "id": "hSNtfSCfTAJk"
      },
      "execution_count": null,
      "outputs": []
    },
    {
      "cell_type": "code",
      "source": [
        "##Q11. Create a class Person with attributes name and age. Add a method greet() that prints \"Hello, my name is\n",
        "##     {name} and I am {age} years old.\"\n",
        "class Person:\n",
        "    def __init__(self, name, age):\n",
        "        self.name = name\n",
        "        self.age = age\n",
        "\n",
        "    def greet(self):\n",
        "        print(f\"Hello, my name is {self.name} and I am {self.age} years old.\")\n",
        "\n",
        "# Example usage\n",
        "person = Person(\"Alice\", 30)\n",
        "person.greet()\n"
      ],
      "metadata": {
        "id": "zfzYBL9XTAL5"
      },
      "execution_count": null,
      "outputs": []
    },
    {
      "cell_type": "code",
      "source": [
        "##12. Implement a class Student with attributes name and grades. Create a method average_grade() to compute\n",
        "##    the average of the grades.\n",
        "class Student:\n",
        "    def __init__(self, name, grades):\n",
        "        self.name = name\n",
        "        self.grades = grades\n",
        "\n",
        "    def average_grade(self):\n",
        "        return sum(self.grades) / len(self.grades) if self.grades else 0\n",
        "\n",
        "    def display_info(self):\n",
        "        print(f\"Student: {self.name}, Average Grade: {self.average_grade():.2f}\")\n",
        "\n",
        "# Example usage\n",
        "student = Student(\"Alice\", [85, 90, 78, 92])\n",
        "student.display_info()\n",
        "\n"
      ],
      "metadata": {
        "id": "6MM1GVBaXzLy"
      },
      "execution_count": null,
      "outputs": []
    },
    {
      "cell_type": "code",
      "source": [
        "##Q13. Create a class Rectangle with methods set_dimensions() to set the dimensions and area() to calculate the\n",
        "##     area.\n",
        "class Rectangle:\n",
        "    def __init__(self):\n",
        "        self.width = 0\n",
        "        self.height = 0\n",
        "\n",
        "    def set_dimensions(self, width, height):\n",
        "        self.width = width\n",
        "        self.height = height\n",
        "\n",
        "    def area(self):\n",
        "        return self.width * self.height\n",
        "\n",
        "    def display_info(self):\n",
        "        print(f\"Rectangle with width {self.width} and height {self.height} has an area of {self.area()}\")\n",
        "\n",
        "# Example usage\n",
        "rectangle = Rectangle()\n",
        "rectangle.set_dimensions(5, 10)\n",
        "rectangle.display_info()\n"
      ],
      "metadata": {
        "id": "vZGdbUolXzQO"
      },
      "execution_count": null,
      "outputs": []
    },
    {
      "cell_type": "code",
      "source": [
        "##Q14. Create a class Employee with a method calculate_salary() that computes the salary based on hours worked\n",
        "##  and hourly rate. Create a derived class Manager that adds a bonus to the salary.\n",
        "class Employee:\n",
        "    def __init__(self, name, hours_worked, hourly_rate):\n",
        "        self.name = name\n",
        "        self.hours_worked = hours_worked\n",
        "        self.hourly_rate = hourly_rate\n",
        "\n",
        "    def calculate_salary(self):\n",
        "        return self.hours_worked * self.hourly_rate\n",
        "\n",
        "    def display_info(self):\n",
        "        print(f\"Employee: {self.name}, Salary: ${self.calculate_salary():.2f}\")\n",
        "\n",
        "class Manager(Employee):\n",
        "    def __init__(self, name, hours_worked, hourly_rate, bonus):\n",
        "        super().__init__(name, hours_worked, hourly_rate)\n",
        "        self.bonus = bonus\n",
        "\n",
        "    def calculate_salary(self):\n",
        "        return super().calculate_salary() + self.bonus\n",
        "\n",
        "    def display_info(self):\n",
        "        print(f\"Manager: {self.name}, Salary with Bonus: ${self.calculate_salary():.2f}\")\n",
        "\n",
        "# Example usage\n",
        "employee = Employee(\"Alice\", 40, 20)\n",
        "employee.display_info()\n",
        "\n",
        "manager = Manager(\"Bob\", 40, 30, 500)\n",
        "manager.display_info()\n"
      ],
      "metadata": {
        "id": "BO6pgARDXzUr"
      },
      "execution_count": null,
      "outputs": []
    },
    {
      "cell_type": "code",
      "source": [
        "##Q15. Create a class Product with attributes name, price, and quantity. Implement a method total_price() that\n",
        "##      calculates the total price of the product.\n",
        "class Product:\n",
        "    def __init__(self, name, price, quantity):\n",
        "        self.name = name\n",
        "        self.price = price\n",
        "        self.quantity = quantity\n",
        "\n",
        "    def total_price(self):\n",
        "        return self.price * self.quantity\n",
        "\n",
        "    def display_info(self):\n",
        "        print(f\"Product: {self.name}, Unit Price: ${self.price:.2f}, Quantity: {self.quantity}, Total Price: ${self.total_price():.2f}\")\n",
        "\n",
        "# Example usage\n",
        "product = Product(\"Laptop\", 1200, 3)\n",
        "product.display_info()\n"
      ],
      "metadata": {
        "id": "IXFCSYL2X0pL"
      },
      "execution_count": null,
      "outputs": []
    },
    {
      "cell_type": "code",
      "source": [
        "##Q16. Create a class Animal with an abstract method sound(). Create two derived classes Cow and Sheep that\n",
        "##     implement the sound() method.\n",
        "from abc import ABC, abstractmethod\n",
        "\n",
        "class Animal(ABC):\n",
        "    @abstractmethod\n",
        "    def sound(self):\n",
        "        pass\n",
        "\n",
        "class Cow(Animal):\n",
        "    def sound(self):\n",
        "        return \"Moo\"\n",
        "\n",
        "class Sheep(Animal):\n",
        "    def sound(self):\n",
        "        return \"Baa\"\n",
        "\n",
        "# Example usage\n",
        "cow = Cow()\n",
        "sheep = Sheep()\n",
        "print(\"Cow sound:\", cow.sound())\n",
        "print(\"Sheep sound:\", sheep.sound())\n"
      ],
      "metadata": {
        "id": "G6lmjspUX0wk"
      },
      "execution_count": null,
      "outputs": []
    },
    {
      "cell_type": "code",
      "source": [
        "##Q17. Create a class Book with attributes title, author, and year_published. Add a method get_book_info() that\n",
        "##     returns a formatted string with the book's details.\n",
        "class Book:\n",
        "    def __init__(self, title, author, year_published):\n",
        "        self.title = title\n",
        "        self.author = author\n",
        "        self.year_published = year_published\n",
        "\n",
        "    def get_book_info(self):\n",
        "        return f\"{self.title} by {self.author}, published in {self.year_published}.\"\n",
        "\n",
        "# Example usage\n",
        "book = Book(\"1984\", \"George Orwell\", 1949)\n",
        "print(book.get_book_info())\n",
        "\n",
        "\n"
      ],
      "metadata": {
        "colab": {
          "base_uri": "https://localhost:8080/"
        },
        "id": "ER6pZSvPTAOe",
        "outputId": "a4addbb1-8c53-4a64-8f8a-cf57223cedb6"
      },
      "execution_count": null,
      "outputs": [
        {
          "output_type": "stream",
          "name": "stdout",
          "text": [
            "1984 by George Orwell, published in 1949.\n"
          ]
        }
      ]
    },
    {
      "cell_type": "code",
      "source": [
        "##Q18. Create a class House with attributes address and price. Create a derived class Mansion that adds an\n",
        "##attribute number_of_rooms.\n",
        "class House:\n",
        "    def __init__(self, address, price):\n",
        "        self.address = address\n",
        "        self.price = price\n",
        "\n",
        "    def get_info(self):\n",
        "        return f\"House located at {self.address}, priced at ${self.price}.\"\n",
        "\n",
        "class Mansion(House):\n",
        "    def __init__(self, address, price, number_of_rooms):\n",
        "        super().__init__(address, price)\n",
        "        self.number_of_rooms = number_of_rooms\n",
        "\n",
        "    def get_info(self):\n",
        "        return f\"Mansion located at {self.address}, priced at ${self.price}, with {self.number_of_rooms} rooms.\"\n",
        "\n",
        "# Example usage\n",
        "house = House(\"123 Main St\", 250000)\n",
        "print(house.get_info())\n",
        "\n",
        "mansion = Mansion(\"456 Grand Ave\", 5000000, 10)\n",
        "print(mansion.get_info())\n"
      ],
      "metadata": {
        "colab": {
          "base_uri": "https://localhost:8080/"
        },
        "id": "eRXxvkGDTARu",
        "outputId": "eee24353-0690-4ad4-dabd-0af970761d35"
      },
      "execution_count": null,
      "outputs": [
        {
          "output_type": "stream",
          "name": "stdout",
          "text": [
            "House located at 123 Main St, priced at $250000.\n",
            "Mansion located at 456 Grand Ave, priced at $5000000, with 10 rooms.\n"
          ]
        }
      ]
    }
  ]
}